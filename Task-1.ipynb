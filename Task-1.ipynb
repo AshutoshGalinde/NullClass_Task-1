{
 "cells": [
  {
   "cell_type": "markdown",
   "id": "b732a1e9-d308-40f8-bdec-d53e7a331a67",
   "metadata": {},
   "source": [
    "# Importing Libraries"
   ]
  },
  {
   "cell_type": "code",
   "execution_count": 170,
   "id": "a91444dc-83f4-4a1e-92fd-cb1a02ba3eac",
   "metadata": {},
   "outputs": [],
   "source": [
    "import tensorflow as tf\n",
    "from tensorflow.keras.models import model_from_json\n",
    "import numpy as np\n",
    "import matplotlib.pyplot as plt\n",
    "import cv2\n",
    "import os\n",
    "import random\n",
    "from lime import lime_image\n",
    "from skimage.segmentation import mark_boundaries"
   ]
  },
  {
   "cell_type": "markdown",
   "id": "e18ed45d-cf21-45ca-9c22-75a8e18185c5",
   "metadata": {},
   "source": [
    "## Loading model architecture from JSON"
   ]
  },
  {
   "cell_type": "code",
   "execution_count": 171,
   "id": "cf67ddd7-8073-49d8-a097-c3499d95a604",
   "metadata": {},
   "outputs": [],
   "source": [
    "with open('C:/Users/ASHUTOSH/Desktop/EMOTION_DETECTOR/model_a.json', 'r') as json_file:\n",
    "    model_json = json_file.read()"
   ]
  },
  {
   "cell_type": "code",
   "execution_count": 172,
   "id": "ac5433cf-b803-48a2-849f-d942b101ef64",
   "metadata": {},
   "outputs": [],
   "source": [
    "model = model_from_json(model_json)"
   ]
  },
  {
   "cell_type": "markdown",
   "id": "71b2e2cc-a0c8-4350-a677-68550970d3a0",
   "metadata": {},
   "source": [
    "## Loading model weights"
   ]
  },
  {
   "cell_type": "code",
   "execution_count": 173,
   "id": "2041969f-b4bf-4cc5-a1ec-646da80c3aab",
   "metadata": {},
   "outputs": [],
   "source": [
    "model.load_weights('C:/Users/ASHUTOSH/Desktop/EMOTION_DETECTOR/model_weights.h5')"
   ]
  },
  {
   "cell_type": "markdown",
   "id": "3993c180-ff87-4cf6-a402-71f2b3c80b63",
   "metadata": {},
   "source": [
    "## Function to preprocess input image"
   ]
  },
  {
   "cell_type": "code",
   "execution_count": 174,
   "id": "8568f6ae-bfce-44d3-ac7c-2d353f3117bf",
   "metadata": {},
   "outputs": [],
   "source": [
    "def preprocess_image(image_path):\n",
    "    img = cv2.imread(image_path, cv2.IMREAD_GRAYSCALE)\n",
    "    img = cv2.resize(img, (48, 48,))\n",
    "    img = img.astype('float32')/ 255.0\n",
    "#    img =np.expand_dims(img, axis=[0, -1])\n",
    "    return img"
   ]
  },
  {
   "cell_type": "code",
   "execution_count": 175,
   "id": "f51c8e13-3d38-473d-a94d-49876865ba7a",
   "metadata": {},
   "outputs": [],
   "source": [
    "# Function to convert grayscale image to RGB\n",
    "def convert_to_rgb(image):\n",
    "    img_rgb = cv2.cvtColor(image, cv2.COLOR_GRAY2RGB)\n",
    "    return img_rgb"
   ]
  },
  {
   "cell_type": "markdown",
   "id": "0e6cc6e8-6903-4c25-96fb-23a9f8a78f16",
   "metadata": {},
   "source": [
    "## Function to generate Grad-CAM"
   ]
  },
  {
   "cell_type": "code",
   "execution_count": 176,
   "id": "841721df-a696-47b5-a7da-3661e61a1242",
   "metadata": {},
   "outputs": [],
   "source": [
    "def generate_gradcam(model, img_array, layer_name, pred_index=None):\n",
    "    grad_model = tf.keras.models.Model(\n",
    "        [model.inputs], [model.get_layer(layer_name).output, model.output]\n",
    "    )\n",
    "\n",
    "    with tf.GradientTape() as tape:\n",
    "        conv_outputs, predictions = grad_model(img_array)\n",
    "        if pred_index is None:\n",
    "            pred_index = tf.argmax(predictions[0])\n",
    "        loss = predictions[:, pred_index]\n",
    "\n",
    "    grads = tape.gradient(loss, conv_outputs)\n",
    "    pooled_grads = tf.reduce_mean(grads, axis = (0, 1, 2))\n",
    "\n",
    "    conv_outputs = conv_outputs[0]\n",
    "    heatmap = conv_outputs @ pooled_grads[..., tf.newaxis]\n",
    "    heatmap = tf.squeeze(heatmap)\n",
    "\n",
    "    heatmap = np.maximum(heatmap, 0) / np.max(heatmap)\n",
    "    return heatmap"
   ]
  },
  {
   "cell_type": "markdown",
   "id": "b78f9c0e-13e7-4959-bdb9-48f07c1066ce",
   "metadata": {},
   "source": [
    "## Loading an Image"
   ]
  },
  {
   "cell_type": "code",
   "execution_count": 177,
   "id": "d9ab948b-0f51-4d07-9d0c-ece4e395c77e",
   "metadata": {},
   "outputs": [],
   "source": [
    "#image_path = 'C:/Users/ASHUTOSH/Desktop/emotion images/shocked.jpg'\n",
    "#img_array = preprocess_image(image_path)\n",
    "#plt.show()"
   ]
  },
  {
   "cell_type": "code",
   "execution_count": 178,
   "id": "2eb7a324-37e0-4256-a6bc-89442ff8cbd0",
   "metadata": {},
   "outputs": [],
   "source": [
    "def get_random_image_path(root_dir):\n",
    "    class_folders = [os.path.join(root_dir, d) for d in os.listdir(root_dir) if os.path.isdir(os.path.join(root_dir, d))]\n",
    "    random_class_folder = random.choice(class_folders)\n",
    "    random_image = random.choice(os.listdir(random_class_folder))\n",
    "    return os.path.join(random_class_folder, random_image)"
   ]
  },
  {
   "cell_type": "markdown",
   "id": "2727033a-ced5-4d3c-8896-f780db2d6700",
   "metadata": {},
   "source": [
    "# LIME Explanation Function"
   ]
  },
  {
   "cell_type": "code",
   "execution_count": 213,
   "id": "2781b97b-9259-480a-ba25-b630f83eae45",
   "metadata": {},
   "outputs": [],
   "source": [
    "def explain_with_lime(model, image_path):\n",
    "    explainer = lime_image.LimeImageExplainer()\n",
    "\n",
    "     # Preprocess image for LIME (should match model input size)\n",
    "    img = preprocess_image(image_path)\n",
    "    img_rgb = convert_to_rgb(img)\n",
    "#    img = cv2.cvtColor(np.squeeze(img, axis=-1), cv2.COLOR_GRAY2RGB)  # Remove single color channel dimension for LIME\n",
    "\n",
    "     # Convert grayscale to RGB by duplicating channels\n",
    "    #img_rgb = np.repeat(img, 3, axis=-1)  # Now the shape will be (48, 48, 3)\n",
    "    \n",
    "    # Define a prediction function for LIME\n",
    "    def predict_fn(images):\n",
    "#        image = np.array([cv2.cvtColor(image, cv2.COLOR_RGB2GRAY) for image in images])\n",
    "#        images = np.expand_dims(images, axis=-1)  # Add channel dimension back\n",
    "        images_gray = np.array([cv2.cvtColor(image, cv2.COLOR_RGB2GRAY) for image in images])\n",
    "        images_gray = np.expand_dims(images_gray, axis=-1)\n",
    "        predictions = model.predict(images)\n",
    "        return predictions\n",
    "\n",
    "    explanation = explainer.explain_instance(\n",
    "        img_rgb,\n",
    "        predict_fn,\n",
    "        top_labels=1,\n",
    "        hide_color=0,\n",
    "        num_samples=1000  # Number of perturbations to generate for each explanation\n",
    "    )\n",
    "\n",
    "    # Get explanation for the top predicted class\n",
    "    temp, mask = explanation.get_image_and_mask(\n",
    "        explanation.top_labels[0],\n",
    "        positive_only=True,\n",
    "        num_features=5,\n",
    "        hide_rest=False\n",
    "    )\n",
    "\n",
    "    plt.imshow(mark_boundaries(temp, mask))\n",
    "    plt.axis('off')\n",
    "    plt.title(\"LIME Explanation\")\n",
    "    plt.show()"
   ]
  },
  {
   "cell_type": "code",
   "execution_count": 214,
   "id": "b7274ef0-5c6f-4b45-8230-8d6900e7dffc",
   "metadata": {},
   "outputs": [],
   "source": [
    "# Set the path to your dataset directory\n",
    "root_dir = 'C:/Users/ASHUTOSH/Desktop/EMOTION_DETECTOR/test/'   "
   ]
  },
  {
   "cell_type": "code",
   "execution_count": 215,
   "id": "12bef17c-7573-4742-8b53-a594c9540eb9",
   "metadata": {},
   "outputs": [],
   "source": [
    "# Get a random image path\n",
    "random_image_path = get_random_image_path(root_dir)"
   ]
  },
  {
   "cell_type": "code",
   "execution_count": 216,
   "id": "078814eb-fee1-4235-929a-ab8b68861530",
   "metadata": {},
   "outputs": [],
   "source": [
    "# Preprocess the random image\n",
    "img_array = preprocess_image(random_image_path)"
   ]
  },
  {
   "cell_type": "markdown",
   "id": "00a32b38-a93e-46ef-a60e-715a1a44c6c4",
   "metadata": {},
   "source": [
    "## Generating Grad-CAM heatmap"
   ]
  },
  {
   "cell_type": "code",
   "execution_count": 217,
   "id": "fe03a7ac-f0cf-4b88-86b1-9f79e43703bc",
   "metadata": {},
   "outputs": [],
   "source": [
    "layer_name = 'conv2d_2'\n",
    "heatmap = generate_gradcam(model, np.expand_dims(img_array, axis=0), layer_name)"
   ]
  },
  {
   "cell_type": "markdown",
   "id": "12e275d9-3ae0-404e-bfa7-d4229f633ac2",
   "metadata": {},
   "source": [
    "## Visualizing heatmap"
   ]
  },
  {
   "cell_type": "code",
   "execution_count": 218,
   "id": "bbc6dad8-824c-43e6-aff1-382e0834649d",
   "metadata": {},
   "outputs": [
    {
     "data": {
      "image/png": "[encoded data removed]",
      "text/plain": [
       "<Figure size 640x480 with 2 Axes>"
      ]
     },
     "metadata": {},
     "output_type": "display_data"
    }
   ],
   "source": [
    "plt.imshow(heatmap, cmap='autumn')\n",
    "plt.colorbar()\n",
    "plt.show()"
   ]
  },
  {
   "cell_type": "markdown",
   "id": "b668566c-e809-4694-912a-63b8647d993c",
   "metadata": {},
   "source": [
    "## Overlay heatmap on the image"
   ]
  },
  {
   "cell_type": "code",
   "execution_count": 219,
   "id": "81f9e770-5aed-4254-8048-b391572a89cb",
   "metadata": {
    "scrolled": true
   },
   "outputs": [
    {
     "data": {
      "image/png": "[encoded data removed]",
      "text/plain": [
       "<Figure size 640x480 with 1 Axes>"
      ]
     },
     "metadata": {},
     "output_type": "display_data"
    }
   ],
   "source": [
    "img = cv2.imread(random_image_path)\n",
    "heatmap_resized = cv2.resize(heatmap, (img.shape[1], img.shape[0]))\n",
    "heatmap_resized = np.uint8(255 * heatmap_resized)\n",
    "heatmap_colored = cv2.applyColorMap(heatmap_resized, cv2.COLORMAP_JET)\n",
    "\n",
    "overlay_img = cv2.addWeighted(img, 0.6, heatmap_colored, 0.4,0)\n",
    "plt.imshow(cv2.cvtColor(overlay_img, cv2.COLOR_BGR2RGB))\n",
    "plt.axis('off')\n",
    "plt.show()"
   ]
  },
  {
   "cell_type": "code",
   "execution_count": 220,
   "id": "60815d58-8c7d-4677-8af9-c9bfb48c7c85",
   "metadata": {},
   "outputs": [
    {
     "data": {
      "application/vnd.jupyter.widget-view+json": {
       "model_id": "b3cae4c8e2504a3c83c437d8f469f0b0",
       "version_major": 2,
       "version_minor": 0
      },
      "text/plain": [
       "  0%|          | 0/1000 [00:00<?, ?it/s]"
      ]
     },
     "metadata": {},
     "output_type": "display_data"
    },
    {
     "name": "stdout",
     "output_type": "stream",
     "text": [
      "WARNING:tensorflow:Model was constructed with shape (None, 48, 48, 1) for input KerasTensor(type_spec=TensorSpec(shape=(None, 48, 48, 1), dtype=tf.float32, name='input_1'), name='input_1', description=\"created by layer 'input_1'\"), but it was called on an input with incompatible shape (None, 48, 48, 3).\n"
     ]
    },
    {
     "ename": "ValueError",
     "evalue": "in user code:\n\n    File \"C:\\Users\\ASHUTOSH\\anaconda3\\envs\\Emotion_detection_course\\lib\\site-packages\\keras\\engine\\training.py\", line 1845, in predict_function  *\n        return step_function(self, iterator)\n    File \"C:\\Users\\ASHUTOSH\\anaconda3\\envs\\Emotion_detection_course\\lib\\site-packages\\keras\\engine\\training.py\", line 1834, in step_function  **\n        outputs = model.distribute_strategy.run(run_step, args=(data,))\n    File \"C:\\Users\\ASHUTOSH\\anaconda3\\envs\\Emotion_detection_course\\lib\\site-packages\\keras\\engine\\training.py\", line 1823, in run_step  **\n        outputs = model.predict_step(data)\n    File \"C:\\Users\\ASHUTOSH\\anaconda3\\envs\\Emotion_detection_course\\lib\\site-packages\\keras\\engine\\training.py\", line 1791, in predict_step\n        return self(x, training=False)\n    File \"C:\\Users\\ASHUTOSH\\anaconda3\\envs\\Emotion_detection_course\\lib\\site-packages\\keras\\utils\\traceback_utils.py\", line 67, in error_handler\n        raise e.with_traceback(filtered_tb) from None\n    File \"C:\\Users\\ASHUTOSH\\anaconda3\\envs\\Emotion_detection_course\\lib\\site-packages\\keras\\engine\\input_spec.py\", line 248, in assert_input_compatibility\n        raise ValueError(\n\n    ValueError: Exception encountered when calling layer \"model\" (type Functional).\n    \n    Input 0 of layer \"conv2d_2\" is incompatible with the layer: expected axis -1 of input shape to have value 1, but received input with shape (None, 48, 48, 3)\n    \n    Call arguments received by layer \"model\" (type Functional):\n      • inputs=tf.Tensor(shape=(None, 48, 48, 3), dtype=float32)\n      • training=False\n      • mask=None\n",
     "output_type": "error",
     "traceback": [
      "\u001b[1;31m---------------------------------------------------------------------------\u001b[0m",
      "\u001b[1;31mValueError\u001b[0m                                Traceback (most recent call last)",
      "Cell \u001b[1;32mIn[220], line 2\u001b[0m\n\u001b[0;32m      1\u001b[0m \u001b[38;5;66;03m# Apply LIME to explain the model prediction\u001b[39;00m\n\u001b[1;32m----> 2\u001b[0m \u001b[43mexplain_with_lime\u001b[49m\u001b[43m(\u001b[49m\u001b[43mmodel\u001b[49m\u001b[43m,\u001b[49m\u001b[43m \u001b[49m\u001b[43mrandom_image_path\u001b[49m\u001b[43m)\u001b[49m\n",
      "Cell \u001b[1;32mIn[213], line 21\u001b[0m, in \u001b[0;36mexplain_with_lime\u001b[1;34m(model, image_path)\u001b[0m\n\u001b[0;32m     18\u001b[0m     predictions \u001b[38;5;241m=\u001b[39m model\u001b[38;5;241m.\u001b[39mpredict(images)\n\u001b[0;32m     19\u001b[0m     \u001b[38;5;28;01mreturn\u001b[39;00m predictions\n\u001b[1;32m---> 21\u001b[0m explanation \u001b[38;5;241m=\u001b[39m \u001b[43mexplainer\u001b[49m\u001b[38;5;241;43m.\u001b[39;49m\u001b[43mexplain_instance\u001b[49m\u001b[43m(\u001b[49m\n\u001b[0;32m     22\u001b[0m \u001b[43m    \u001b[49m\u001b[43mimg_rgb\u001b[49m\u001b[43m,\u001b[49m\n\u001b[0;32m     23\u001b[0m \u001b[43m    \u001b[49m\u001b[43mpredict_fn\u001b[49m\u001b[43m,\u001b[49m\n\u001b[0;32m     24\u001b[0m \u001b[43m    \u001b[49m\u001b[43mtop_labels\u001b[49m\u001b[38;5;241;43m=\u001b[39;49m\u001b[38;5;241;43m1\u001b[39;49m\u001b[43m,\u001b[49m\n\u001b[0;32m     25\u001b[0m \u001b[43m    \u001b[49m\u001b[43mhide_color\u001b[49m\u001b[38;5;241;43m=\u001b[39;49m\u001b[38;5;241;43m0\u001b[39;49m\u001b[43m,\u001b[49m\n\u001b[0;32m     26\u001b[0m \u001b[43m    \u001b[49m\u001b[43mnum_samples\u001b[49m\u001b[38;5;241;43m=\u001b[39;49m\u001b[38;5;241;43m1000\u001b[39;49m\u001b[43m  \u001b[49m\u001b[38;5;66;43;03m# Number of perturbations to generate for each explanation\u001b[39;49;00m\n\u001b[0;32m     27\u001b[0m \u001b[43m\u001b[49m\u001b[43m)\u001b[49m\n\u001b[0;32m     29\u001b[0m \u001b[38;5;66;03m# Get explanation for the top predicted class\u001b[39;00m\n\u001b[0;32m     30\u001b[0m temp, mask \u001b[38;5;241m=\u001b[39m explanation\u001b[38;5;241m.\u001b[39mget_image_and_mask(\n\u001b[0;32m     31\u001b[0m     explanation\u001b[38;5;241m.\u001b[39mtop_labels[\u001b[38;5;241m0\u001b[39m],\n\u001b[0;32m     32\u001b[0m     positive_only\u001b[38;5;241m=\u001b[39m\u001b[38;5;28;01mTrue\u001b[39;00m,\n\u001b[0;32m     33\u001b[0m     num_features\u001b[38;5;241m=\u001b[39m\u001b[38;5;241m5\u001b[39m,\n\u001b[0;32m     34\u001b[0m     hide_rest\u001b[38;5;241m=\u001b[39m\u001b[38;5;28;01mFalse\u001b[39;00m\n\u001b[0;32m     35\u001b[0m )\n",
      "File \u001b[1;32m~\\anaconda3\\envs\\Emotion_detection_course\\lib\\site-packages\\lime\\lime_image.py:198\u001b[0m, in \u001b[0;36mLimeImageExplainer.explain_instance\u001b[1;34m(self, image, classifier_fn, labels, hide_color, top_labels, num_features, num_samples, batch_size, segmentation_fn, distance_metric, model_regressor, random_seed)\u001b[0m\n\u001b[0;32m    194\u001b[0m     fudged_image[:] \u001b[38;5;241m=\u001b[39m hide_color\n\u001b[0;32m    196\u001b[0m top \u001b[38;5;241m=\u001b[39m labels\n\u001b[1;32m--> 198\u001b[0m data, labels \u001b[38;5;241m=\u001b[39m \u001b[38;5;28;43mself\u001b[39;49m\u001b[38;5;241;43m.\u001b[39;49m\u001b[43mdata_labels\u001b[49m\u001b[43m(\u001b[49m\u001b[43mimage\u001b[49m\u001b[43m,\u001b[49m\u001b[43m \u001b[49m\u001b[43mfudged_image\u001b[49m\u001b[43m,\u001b[49m\u001b[43m \u001b[49m\u001b[43msegments\u001b[49m\u001b[43m,\u001b[49m\n\u001b[0;32m    199\u001b[0m \u001b[43m                                \u001b[49m\u001b[43mclassifier_fn\u001b[49m\u001b[43m,\u001b[49m\u001b[43m \u001b[49m\u001b[43mnum_samples\u001b[49m\u001b[43m,\u001b[49m\n\u001b[0;32m    200\u001b[0m \u001b[43m                                \u001b[49m\u001b[43mbatch_size\u001b[49m\u001b[38;5;241;43m=\u001b[39;49m\u001b[43mbatch_size\u001b[49m\u001b[43m)\u001b[49m\n\u001b[0;32m    202\u001b[0m distances \u001b[38;5;241m=\u001b[39m sklearn\u001b[38;5;241m.\u001b[39mmetrics\u001b[38;5;241m.\u001b[39mpairwise_distances(\n\u001b[0;32m    203\u001b[0m     data,\n\u001b[0;32m    204\u001b[0m     data[\u001b[38;5;241m0\u001b[39m]\u001b[38;5;241m.\u001b[39mreshape(\u001b[38;5;241m1\u001b[39m, \u001b[38;5;241m-\u001b[39m\u001b[38;5;241m1\u001b[39m),\n\u001b[0;32m    205\u001b[0m     metric\u001b[38;5;241m=\u001b[39mdistance_metric\n\u001b[0;32m    206\u001b[0m )\u001b[38;5;241m.\u001b[39mravel()\n\u001b[0;32m    208\u001b[0m ret_exp \u001b[38;5;241m=\u001b[39m ImageExplanation(image, segments)\n",
      "File \u001b[1;32m~\\anaconda3\\envs\\Emotion_detection_course\\lib\\site-packages\\lime\\lime_image.py:261\u001b[0m, in \u001b[0;36mLimeImageExplainer.data_labels\u001b[1;34m(self, image, fudged_image, segments, classifier_fn, num_samples, batch_size)\u001b[0m\n\u001b[0;32m    259\u001b[0m imgs\u001b[38;5;241m.\u001b[39mappend(temp)\n\u001b[0;32m    260\u001b[0m \u001b[38;5;28;01mif\u001b[39;00m \u001b[38;5;28mlen\u001b[39m(imgs) \u001b[38;5;241m==\u001b[39m batch_size:\n\u001b[1;32m--> 261\u001b[0m     preds \u001b[38;5;241m=\u001b[39m \u001b[43mclassifier_fn\u001b[49m\u001b[43m(\u001b[49m\u001b[43mnp\u001b[49m\u001b[38;5;241;43m.\u001b[39;49m\u001b[43marray\u001b[49m\u001b[43m(\u001b[49m\u001b[43mimgs\u001b[49m\u001b[43m)\u001b[49m\u001b[43m)\u001b[49m\n\u001b[0;32m    262\u001b[0m     labels\u001b[38;5;241m.\u001b[39mextend(preds)\n\u001b[0;32m    263\u001b[0m     imgs \u001b[38;5;241m=\u001b[39m []\n",
      "Cell \u001b[1;32mIn[213], line 18\u001b[0m, in \u001b[0;36mexplain_with_lime.<locals>.predict_fn\u001b[1;34m(images)\u001b[0m\n\u001b[0;32m     16\u001b[0m images_gray \u001b[38;5;241m=\u001b[39m np\u001b[38;5;241m.\u001b[39marray([cv2\u001b[38;5;241m.\u001b[39mcvtColor(image, cv2\u001b[38;5;241m.\u001b[39mCOLOR_RGB2GRAY) \u001b[38;5;28;01mfor\u001b[39;00m image \u001b[38;5;129;01min\u001b[39;00m images])\n\u001b[0;32m     17\u001b[0m images_gray \u001b[38;5;241m=\u001b[39m np\u001b[38;5;241m.\u001b[39mexpand_dims(images_gray, axis\u001b[38;5;241m=\u001b[39m\u001b[38;5;241m-\u001b[39m\u001b[38;5;241m1\u001b[39m)\n\u001b[1;32m---> 18\u001b[0m predictions \u001b[38;5;241m=\u001b[39m \u001b[43mmodel\u001b[49m\u001b[38;5;241;43m.\u001b[39;49m\u001b[43mpredict\u001b[49m\u001b[43m(\u001b[49m\u001b[43mimages\u001b[49m\u001b[43m)\u001b[49m\n\u001b[0;32m     19\u001b[0m \u001b[38;5;28;01mreturn\u001b[39;00m predictions\n",
      "File \u001b[1;32m~\\anaconda3\\envs\\Emotion_detection_course\\lib\\site-packages\\keras\\utils\\traceback_utils.py:67\u001b[0m, in \u001b[0;36mfilter_traceback.<locals>.error_handler\u001b[1;34m(*args, **kwargs)\u001b[0m\n\u001b[0;32m     65\u001b[0m \u001b[38;5;28;01mexcept\u001b[39;00m \u001b[38;5;167;01mException\u001b[39;00m \u001b[38;5;28;01mas\u001b[39;00m e:  \u001b[38;5;66;03m# pylint: disable=broad-except\u001b[39;00m\n\u001b[0;32m     66\u001b[0m   filtered_tb \u001b[38;5;241m=\u001b[39m _process_traceback_frames(e\u001b[38;5;241m.\u001b[39m__traceback__)\n\u001b[1;32m---> 67\u001b[0m   \u001b[38;5;28;01mraise\u001b[39;00m e\u001b[38;5;241m.\u001b[39mwith_traceback(filtered_tb) \u001b[38;5;28;01mfrom\u001b[39;00m \u001b[38;5;28;01mNone\u001b[39;00m\n\u001b[0;32m     68\u001b[0m \u001b[38;5;28;01mfinally\u001b[39;00m:\n\u001b[0;32m     69\u001b[0m   \u001b[38;5;28;01mdel\u001b[39;00m filtered_tb\n",
      "File \u001b[1;32m~\\AppData\\Local\\Temp\\__autograph_generated_filed7ejxl_p.py:15\u001b[0m, in \u001b[0;36mouter_factory.<locals>.inner_factory.<locals>.tf__predict_function\u001b[1;34m(iterator)\u001b[0m\n\u001b[0;32m     13\u001b[0m \u001b[38;5;28;01mtry\u001b[39;00m:\n\u001b[0;32m     14\u001b[0m     do_return \u001b[38;5;241m=\u001b[39m \u001b[38;5;28;01mTrue\u001b[39;00m\n\u001b[1;32m---> 15\u001b[0m     retval_ \u001b[38;5;241m=\u001b[39m ag__\u001b[38;5;241m.\u001b[39mconverted_call(ag__\u001b[38;5;241m.\u001b[39mld(step_function), (ag__\u001b[38;5;241m.\u001b[39mld(\u001b[38;5;28mself\u001b[39m), ag__\u001b[38;5;241m.\u001b[39mld(iterator)), \u001b[38;5;28;01mNone\u001b[39;00m, fscope)\n\u001b[0;32m     16\u001b[0m \u001b[38;5;28;01mexcept\u001b[39;00m:\n\u001b[0;32m     17\u001b[0m     do_return \u001b[38;5;241m=\u001b[39m \u001b[38;5;28;01mFalse\u001b[39;00m\n",
      "\u001b[1;31mValueError\u001b[0m: in user code:\n\n    File \"C:\\Users\\ASHUTOSH\\anaconda3\\envs\\Emotion_detection_course\\lib\\site-packages\\keras\\engine\\training.py\", line 1845, in predict_function  *\n        return step_function(self, iterator)\n    File \"C:\\Users\\ASHUTOSH\\anaconda3\\envs\\Emotion_detection_course\\lib\\site-packages\\keras\\engine\\training.py\", line 1834, in step_function  **\n        outputs = model.distribute_strategy.run(run_step, args=(data,))\n    File \"C:\\Users\\ASHUTOSH\\anaconda3\\envs\\Emotion_detection_course\\lib\\site-packages\\keras\\engine\\training.py\", line 1823, in run_step  **\n        outputs = model.predict_step(data)\n    File \"C:\\Users\\ASHUTOSH\\anaconda3\\envs\\Emotion_detection_course\\lib\\site-packages\\keras\\engine\\training.py\", line 1791, in predict_step\n        return self(x, training=False)\n    File \"C:\\Users\\ASHUTOSH\\anaconda3\\envs\\Emotion_detection_course\\lib\\site-packages\\keras\\utils\\traceback_utils.py\", line 67, in error_handler\n        raise e.with_traceback(filtered_tb) from None\n    File \"C:\\Users\\ASHUTOSH\\anaconda3\\envs\\Emotion_detection_course\\lib\\site-packages\\keras\\engine\\input_spec.py\", line 248, in assert_input_compatibility\n        raise ValueError(\n\n    ValueError: Exception encountered when calling layer \"model\" (type Functional).\n    \n    Input 0 of layer \"conv2d_2\" is incompatible with the layer: expected axis -1 of input shape to have value 1, but received input with shape (None, 48, 48, 3)\n    \n    Call arguments received by layer \"model\" (type Functional):\n      • inputs=tf.Tensor(shape=(None, 48, 48, 3), dtype=float32)\n      • training=False\n      • mask=None\n"
     ]
    }
   ],
   "source": [
    "# Apply LIME to explain the model prediction\n",
    "explain_with_lime(model, random_image_path)"
   ]
  },
  {
   "cell_type": "code",
   "execution_count": null,
   "id": "4a8789ae-50f9-40d4-9639-3137c0a69316",
   "metadata": {},
   "outputs": [],
   "source": []
  },
  {
   "cell_type": "code",
   "execution_count": null,
   "id": "bc16e5ea-ab77-45a2-8a49-e69e9df9b444",
   "metadata": {},
   "outputs": [],
   "source": []
  },
  {
   "cell_type": "code",
   "execution_count": null,
   "id": "7a36cd65-393f-47ad-879f-d73a83b8bb06",
   "metadata": {},
   "outputs": [],
   "source": []
  },
  {
   "cell_type": "code",
   "execution_count": null,
   "id": "cc801b3f-07c7-4b1e-8630-2b2aaa8815cd",
   "metadata": {},
   "outputs": [],
   "source": []
  }
 ],
 "metadata": {
  "kernelspec": {
   "display_name": "Python 3 (ipykernel)",
   "language": "python",
   "name": "python3"
  },
  "language_info": {
   "codemirror_mode": {
    "name": "ipython",
    "version": 3
   },
   "file_extension": ".py",
   "mimetype": "text/x-python",
   "name": "python",
   "nbconvert_exporter": "python",
   "pygments_lexer": "ipython3",
   "version": "3.8.19"
  }
 },
 "nbformat": 4,
 "nbformat_minor": 5
}
